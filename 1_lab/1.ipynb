{
 "cells": [
  {
   "cell_type": "markdown",
   "metadata": {},
   "source": [
    "### Моя перша програма на Python"
   ]
  },
  {
   "cell_type": "markdown",
   "metadata": {},
   "source": [
    "    - спочатку створюю змінні "
   ]
  },
  {
   "cell_type": "code",
   "execution_count": 1,
   "metadata": {},
   "outputs": [],
   "source": [
    "from datetime import datetime\n",
    "name = \"Max\"\n",
    "location = \"Lviv\""
   ]
  },
  {
   "cell_type": "markdown",
   "metadata": {},
   "source": [
    "    - тепер вивожу результат "
   ]
  },
  {
   "cell_type": "code",
   "execution_count": 2,
   "metadata": {},
   "outputs": [
    {
     "name": "stdout",
     "output_type": "stream",
     "text": [
      "Max start programming at 2024-09-20 12:27:20.957336. Lviv is the best city in the world!\n"
     ]
    }
   ],
   "source": [
    "print(f\"{name} start programming at {datetime.now()}. {location} is the best city in the world!\")"
   ]
  },
  {
   "cell_type": "markdown",
   "metadata": {},
   "source": [
    "### Виконання індивідуального завдання через ChatGPT"
   ]
  },
  {
   "cell_type": "code",
   "execution_count": 3,
   "metadata": {},
   "outputs": [
    {
     "name": "stdout",
     "output_type": "stream",
     "text": [
      "Найкоротший шлях: [(0, 0), (1, 0), (2, 0), (2, 1), (2, 2), (3, 2), (3, 3), (3, 4), (4, 4)]\n"
     ]
    }
   ],
   "source": [
    "import heapq\n",
    "\n",
    "class Node:\n",
    "    def __init__(self, position, parent=None):\n",
    "        self.position = position\n",
    "        self.parent = parent\n",
    "        self.g = 0  # відстань від старту до вузла\n",
    "        self.h = 0  # евристична оцінка від вузла до цілі\n",
    "        self.f = 0  # повна оцінка (g + h)\n",
    "\n",
    "    def __eq__(self, other):\n",
    "        return self.position == other.position\n",
    "\n",
    "    def __lt__(self, other):\n",
    "        return self.f < other.f\n",
    "\n",
    "def astar(maze, start, end):\n",
    "    start_node = Node(start)\n",
    "    end_node = Node(end)\n",
    "\n",
    "    open_list = []\n",
    "    closed_list = []\n",
    "\n",
    "    heapq.heappush(open_list, start_node)\n",
    "\n",
    "    while open_list:\n",
    "        current_node = heapq.heappop(open_list)\n",
    "        closed_list.append(current_node)\n",
    "\n",
    "        if current_node == end_node:\n",
    "            path = []\n",
    "            temp = current_node\n",
    "            while temp is not None:\n",
    "                path.append(temp.position)\n",
    "                temp = temp.parent\n",
    "            return path[::-1]  # повертаємо шлях від старту до цілі\n",
    "\n",
    "        children = []\n",
    "        for new_position in [(0, -1), (0, 1), (-1, 0), (1, 0)]:  # сусідні комірки\n",
    "            node_position = (current_node.position[0] + new_position[0], \n",
    "                             current_node.position[1] + new_position[1])\n",
    "\n",
    "            if node_position[0] > (len(maze) - 1) or node_position[0] < 0 or \\\n",
    "               node_position[1] > (len(maze[len(maze)-1]) - 1) or node_position[1] < 0:\n",
    "                continue  # поза межами лабіринту\n",
    "\n",
    "            if maze[node_position[0]][node_position[1]] != 0:\n",
    "                continue  # комірка непрохідна\n",
    "\n",
    "            new_node = Node(node_position, current_node)\n",
    "            children.append(new_node)\n",
    "\n",
    "        for child in children:\n",
    "            if child in closed_list:\n",
    "                continue\n",
    "\n",
    "            child.g = current_node.g + 1\n",
    "            child.h = ((child.position[0] - end_node.position[0]) ** 2) + \\\n",
    "                      ((child.position[1] - end_node.position[1]) ** 2)\n",
    "            child.f = child.g + child.h\n",
    "\n",
    "            if add_to_open(open_list, child) == True:\n",
    "                heapq.heappush(open_list, child)\n",
    "\n",
    "    return None  # неможливо знайти шлях\n",
    "\n",
    "def add_to_open(open_list, child):\n",
    "    for node in open_list:\n",
    "        if child == node and child.g > node.g:\n",
    "            return False\n",
    "    return True\n",
    "\n",
    "# Лабіринт: 0 - прохідний, 1 - непрохідний\n",
    "maze = [[0, 1, 0, 0, 0],\n",
    "        [0, 1, 0, 1, 0],\n",
    "        [0, 0, 0, 1, 0],\n",
    "        [1, 1, 0, 0, 0],\n",
    "        [0, 0, 0, 1, 0]]\n",
    "\n",
    "start = (0, 0)\n",
    "end = (4, 4)\n",
    "\n",
    "path = astar(maze, start, end)\n",
    "print(f\"Найкоротший шлях: {path}\")\n"
   ]
  },
  {
   "cell_type": "markdown",
   "metadata": {},
   "source": [
    "# Алгоритм A* для пошуку шляху\n",
    "\n",
    "Ця програма реалізує алгоритм A* для пошуку найкоротшого шляху в лабіринті. Алгоритм обчислює шлях від стартової точки до цільової, мінімізуючи вартість руху. \n",
    "\n",
    "### Основні поняття:\n",
    "- `g`: відстань від стартової точки до поточної комірки.\n",
    "- `h`: евристична оцінка від поточної комірки до цільової точки.\n",
    "- `f = g + h`: загальна оцінка для вибору наступної комірки.\n",
    "\n",
    "### Приклад:\n",
    "```python\n",
    "maze = [[0, 1, 0, 0, 0],\n",
    "        [0, 1, 0, 1, 0],\n",
    "        [0, 0, 0, 1, 0],\n",
    "        [1, 1, 0, 0, 0],\n",
    "        [0, 0, 0, 1, 0]]\n",
    "\n",
    "start = (0, 0)\n",
    "end = (4, 4)\n"
   ]
  },
  {
   "cell_type": "markdown",
   "metadata": {},
   "source": [
    "###"
   ]
  }
 ],
 "metadata": {
  "kernelspec": {
   "display_name": "Python 3",
   "language": "python",
   "name": "python3"
  },
  "language_info": {
   "codemirror_mode": {
    "name": "ipython",
    "version": 3
   },
   "file_extension": ".py",
   "mimetype": "text/x-python",
   "name": "python",
   "nbconvert_exporter": "python",
   "pygments_lexer": "ipython3",
   "version": "3.12.5"
  }
 },
 "nbformat": 4,
 "nbformat_minor": 2
}
