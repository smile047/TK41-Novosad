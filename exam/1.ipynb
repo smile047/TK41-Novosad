{
 "cells": [
  {
   "cell_type": "markdown",
   "metadata": {},
   "source": [
    "### Екзамен\n"
   ]
  },
  {
   "cell_type": "markdown",
   "metadata": {},
   "source": [
    "### Завдання\n",
    "- створити клас в якого буде функція, яка повертає стрічку "
   ]
  },
  {
   "cell_type": "markdown",
   "metadata": {},
   "source": [
    "#### приклад 1"
   ]
  },
  {
   "cell_type": "code",
   "execution_count": 8,
   "metadata": {},
   "outputs": [
    {
     "data": {
      "text/plain": [
       "'Це рядок, що повертається функцією.'"
      ]
     },
     "execution_count": 8,
     "metadata": {},
     "output_type": "execute_result"
    }
   ],
   "source": [
    "class MyClass:\n",
    "    def __init__(self):\n",
    "        pass  # Ініціалізатор класу\n",
    "\n",
    "    def get_string(self):\n",
    "        return \"Це рядок, що повертається функцією.\"\n",
    "\n",
    "# Створення об'єкта класу\n",
    "obj = MyClass()\n",
    "\n",
    "# Виклик функції\n",
    "result = obj.get_string()\n",
    "result  # Повертає рядок\n"
   ]
  },
  {
   "cell_type": "markdown",
   "metadata": {},
   "source": [
    "#### приклад 2"
   ]
  },
  {
   "cell_type": "code",
   "execution_count": 9,
   "metadata": {},
   "outputs": [
    {
     "data": {
      "text/plain": [
       "\"Клієнт Сергій купив товар 'Ноутбук' за 13500.0 грн.\""
      ]
     },
     "execution_count": 9,
     "metadata": {},
     "output_type": "execute_result"
    }
   ],
   "source": [
    "class SalesTransaction:\n",
    "    def __init__(self, item_name, price):\n",
    "        \"\"\"\n",
    "        Ініціалізація класу з ім'ям товару та його ціною.\n",
    "        \"\"\"\n",
    "        self.item_name = item_name\n",
    "        self.price = price\n",
    "\n",
    "    def apply_discount(self, discount_percentage):\n",
    "        \"\"\"\n",
    "        Застосовує знижку до ціни товару.\n",
    "        \"\"\"\n",
    "        discount_amount = (self.price * discount_percentage) / 100\n",
    "        discounted_price = self.price - discount_amount\n",
    "        return discounted_price\n",
    "\n",
    "    def process_sale(self, customer_name, discount_percentage=0):\n",
    "        \"\"\"\n",
    "        Обробляє продаж, повертає повідомлення з інформацією про транзакцію.\n",
    "        \"\"\"\n",
    "        discounted_price = self.apply_discount(discount_percentage)\n",
    "        sale_message = f\"Клієнт {customer_name} купив товар '{self.item_name}' за {discounted_price} грн.\"\n",
    "        return sale_message\n",
    "\n",
    "\n",
    "# Приклад використання класу\n",
    "\n",
    "# Створення об'єкта продажу\n",
    "sale = SalesTransaction(\"Ноутбук\", 15000)\n",
    "\n",
    "# Виклик функції process_sale для клієнта з ім'ям \"Іван\" і знижкою 10%\n",
    "transaction_message = sale.process_sale(\"Сергій\", 10)\n",
    "\n",
    "# Виведення результату\n",
    "transaction_message\n"
   ]
  }
 ],
 "metadata": {
  "kernelspec": {
   "display_name": "Python 3",
   "language": "python",
   "name": "python3"
  },
  "language_info": {
   "codemirror_mode": {
    "name": "ipython",
    "version": 3
   },
   "file_extension": ".py",
   "mimetype": "text/x-python",
   "name": "python",
   "nbconvert_exporter": "python",
   "pygments_lexer": "ipython3",
   "version": "3.13.1"
  }
 },
 "nbformat": 4,
 "nbformat_minor": 2
}
