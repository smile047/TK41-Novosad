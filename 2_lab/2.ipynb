{
 "cells": [
  {
   "cell_type": "markdown",
   "metadata": {},
   "source": [
    "### Типи змінних "
   ]
  },
  {
   "cell_type": "markdown",
   "metadata": {},
   "source": [
    "#### Стрічкові змінні \n",
    " - змінна це просто імя (буква або набір букв або цифр) яке містить значення\n",
    " - власне значення це стрічка яка є у '' \"\""
   ]
  },
  {
   "cell_type": "code",
   "execution_count": 51,
   "metadata": {},
   "outputs": [],
   "source": [
    "a = 'Це стрічка'\n",
    "a1 = \"Це\"\n",
    "a_1 = \"стрічка\"\n",
    "a_ = '''\n",
    "Це \n",
    "мультистрічка\n",
    "'''\n"
   ]
  },
  {
   "cell_type": "code",
   "execution_count": 52,
   "metadata": {},
   "outputs": [
    {
     "name": "stdout",
     "output_type": "stream",
     "text": [
      "Це стрічка Перевизначили \n",
      "Це \n",
      "мультистрічка\n",
      "\n"
     ]
    }
   ],
   "source": [
    "# тут я хочу вивести значення\n",
    "a # спрацює коли буде в кінці комірки\n",
    "b = 'Перевизначили'\n",
    "print(a, b, a_)\n"
   ]
  },
  {
   "cell_type": "markdown",
   "metadata": {},
   "source": [
    "### Видалення змінної та виклик помилки\n",
    "\n",
    "##### Можна видалити змінну за допомогою del, а якщо потім спробувати звернутись до неї, буде викликана помилка:"
   ]
  },
  {
   "cell_type": "code",
   "execution_count": 53,
   "metadata": {},
   "outputs": [],
   "source": [
    "del a_1\n",
    "# ми знаємо що тут буде помилка\n",
    "#print(a_1)\n"
   ]
  },
  {
   "cell_type": "markdown",
   "metadata": {},
   "source": [
    "##### Помилка буде такою:"
   ]
  },
  {
   "cell_type": "code",
   "execution_count": 54,
   "metadata": {},
   "outputs": [
    {
     "ename": "SyntaxError",
     "evalue": "invalid syntax (1150181811.py, line 1)",
     "output_type": "error",
     "traceback": [
      "\u001b[1;36m  Cell \u001b[1;32mIn[54], line 1\u001b[1;36m\u001b[0m\n\u001b[1;33m    NameError: name 'a_1' is not defined\u001b[0m\n\u001b[1;37m                    ^\u001b[0m\n\u001b[1;31mSyntaxError\u001b[0m\u001b[1;31m:\u001b[0m invalid syntax\n"
     ]
    }
   ],
   "source": [
    "NameError: name 'a_1' is not defined\n"
   ]
  },
  {
   "cell_type": "markdown",
   "metadata": {},
   "source": [
    "### Робота з рядками\n",
    "##### Створення змінної та операції з нею:"
   ]
  },
  {
   "cell_type": "code",
   "execution_count": null,
   "metadata": {},
   "outputs": [
    {
     "name": "stdout",
     "output_type": "stream",
     "text": [
      "зʼїли бургер\n"
     ]
    }
   ],
   "source": [
    "бургер = \"зʼїли бургер\"\n",
    "print(бургер)\n"
   ]
  },
  {
   "cell_type": "markdown",
   "metadata": {},
   "source": [
    "##### Перевірка типу даних і робота з функціями:"
   ]
  },
  {
   "cell_type": "code",
   "execution_count": null,
   "metadata": {},
   "outputs": [
    {
     "name": "stdout",
     "output_type": "stream",
     "text": [
      "<class 'str'>\n",
      "Зʼїли бургер\n"
     ]
    }
   ],
   "source": [
    "print(type(бургер))\n",
    "print(бургер.capitalize())\n"
   ]
  },
  {
   "cell_type": "markdown",
   "metadata": {},
   "source": [
    "### Конкатенація рядків\n",
    "##### Додавання двох рядків:"
   ]
  },
  {
   "cell_type": "code",
   "execution_count": null,
   "metadata": {},
   "outputs": [
    {
     "name": "stdout",
     "output_type": "stream",
     "text": [
      "Це стрічкаПеревизначили Це стрічкаПеревизначили\n"
     ]
    }
   ],
   "source": [
    "print(a + b, a.__add__(b))\n",
    "# a - b \n",
    "# TypeError: unsupported operand type(s) for -: 'str' and 'str'\n"
   ]
  },
  {
   "cell_type": "markdown",
   "metadata": {},
   "source": [
    "TypeError: unsupported operand type(s) for -: 'str' and 'str'\n"
   ]
  }
 ],
 "metadata": {
  "kernelspec": {
   "display_name": "Python 3",
   "language": "python",
   "name": "python3"
  },
  "language_info": {
   "codemirror_mode": {
    "name": "ipython",
    "version": 3
   },
   "file_extension": ".py",
   "mimetype": "text/x-python",
   "name": "python",
   "nbconvert_exporter": "python",
   "pygments_lexer": "ipython3",
   "version": "3.12.5"
  }
 },
 "nbformat": 4,
 "nbformat_minor": 2
}
