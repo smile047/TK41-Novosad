{
 "cells": [
  {
   "cell_type": "markdown",
   "metadata": {},
   "source": [
    "### Типи змінних "
   ]
  },
  {
   "cell_type": "markdown",
   "metadata": {},
   "source": [
    "#### Стрічкові змінні \n",
    " - змінна це просто імя (буква або набір букв або цифр) яке містить значення\n",
    " - власне значення це стрічка яка є у '' \"\""
   ]
  },
  {
   "cell_type": "code",
   "execution_count": 1,
   "metadata": {},
   "outputs": [],
   "source": [
    "a = 'Це стрічка'\n",
    "a1 = \"Це\"\n",
    "a_1 = \"стрічка\"\n",
    "a_ = '''\n",
    "Це \n",
    "мультистрічка\n",
    "'''\n"
   ]
  },
  {
   "cell_type": "code",
   "execution_count": 2,
   "metadata": {},
   "outputs": [
    {
     "name": "stdout",
     "output_type": "stream",
     "text": [
      "Це стрічка Перевизначили \n",
      "Це \n",
      "мультистрічка\n",
      "\n"
     ]
    }
   ],
   "source": [
    "# тут я хочу вивести значення\n",
    "a # спрацює коли буде в кінці комірки\n",
    "b = 'Перевизначили'\n",
    "print(a, b, a_)\n"
   ]
  },
  {
   "cell_type": "markdown",
   "metadata": {},
   "source": [
    "### Видалення змінної та виклик помилки\n",
    "\n",
    "##### Можна видалити змінну за допомогою del, а якщо потім спробувати звернутись до неї, буде викликана помилка:"
   ]
  },
  {
   "cell_type": "code",
   "execution_count": 3,
   "metadata": {},
   "outputs": [],
   "source": [
    "del a_1\n",
    "# ми знаємо що тут буде помилка\n",
    "#print(a_1)\n"
   ]
  },
  {
   "cell_type": "markdown",
   "metadata": {},
   "source": [
    "##### Помилка буде такою:"
   ]
  },
  {
   "cell_type": "code",
   "execution_count": 4,
   "metadata": {},
   "outputs": [
    {
     "ename": "SyntaxError",
     "evalue": "invalid syntax (1150181811.py, line 1)",
     "output_type": "error",
     "traceback": [
      "\u001b[1;36m  Cell \u001b[1;32mIn[4], line 1\u001b[1;36m\u001b[0m\n\u001b[1;33m    NameError: name 'a_1' is not defined\u001b[0m\n\u001b[1;37m                    ^\u001b[0m\n\u001b[1;31mSyntaxError\u001b[0m\u001b[1;31m:\u001b[0m invalid syntax\n"
     ]
    }
   ],
   "source": [
    "NameError: name 'a_1' is not defined\n"
   ]
  },
  {
   "cell_type": "markdown",
   "metadata": {},
   "source": [
    "### Робота з рядками\n",
    "##### Створення змінної та операції з нею:"
   ]
  },
  {
   "cell_type": "code",
   "execution_count": null,
   "metadata": {},
   "outputs": [],
   "source": [
    "бургер = \"зʼїли бургер\"\n",
    "print(бургер)\n"
   ]
  },
  {
   "cell_type": "markdown",
   "metadata": {},
   "source": [
    "##### Перевірка типу даних і робота з функціями:"
   ]
  },
  {
   "cell_type": "code",
   "execution_count": null,
   "metadata": {},
   "outputs": [],
   "source": [
    "print(type(бургер))\n",
    "print(бургер.capitalize())\n"
   ]
  },
  {
   "cell_type": "markdown",
   "metadata": {},
   "source": [
    "### Конкатенація рядків\n",
    "##### Додавання двох рядків:"
   ]
  },
  {
   "cell_type": "code",
   "execution_count": null,
   "metadata": {},
   "outputs": [],
   "source": [
    "print(a + b, a.__add__(b))\n",
    "# a - b \n",
    "# TypeError: unsupported operand type(s) for -: 'str' and 'str'\n"
   ]
  },
  {
   "cell_type": "markdown",
   "metadata": {},
   "source": [
    "TypeError: unsupported operand type(s) for -: 'str' and 'str'\n"
   ]
  },
  {
   "cell_type": "markdown",
   "metadata": {},
   "source": [
    "### Чисельні типи даних \n",
    "- цілі  та числа з плаваючою крапкою"
   ]
  },
  {
   "cell_type": "code",
   "execution_count": null,
   "metadata": {},
   "outputs": [],
   "source": [
    "d = 47000000000 \n",
    "import sys \n",
    "print(sys.getsizeof(d))\n",
    "\n",
    "print(type(d))"
   ]
  },
  {
   "cell_type": "code",
   "execution_count": null,
   "metadata": {},
   "outputs": [
    {
     "name": "stdout",
     "output_type": "stream",
     "text": [
      "<class 'float'>\n"
     ]
    }
   ],
   "source": [
    "dd = 47.47\n",
    "print(type(dd))"
   ]
  },
  {
   "cell_type": "markdown",
   "metadata": {},
   "source": [
    " ##### Арифметичні операції "
   ]
  },
  {
   "cell_type": "code",
   "execution_count": null,
   "metadata": {},
   "outputs": [
    {
     "name": "stdout",
     "output_type": "stream",
     "text": [
      "6.190188737460337e+78\n",
      "6.8898476035395735\n"
     ]
    }
   ],
   "source": [
    "c = dd\n",
    "type(c)\n",
    "# тут ми робимо піднесення до степеня\n",
    "print(dd ** 47)\n",
    "import math\n",
    "print(math.sqrt(dd))"
   ]
  },
  {
   "cell_type": "code",
   "execution_count": null,
   "metadata": {},
   "outputs": [
    {
     "name": "stdout",
     "output_type": "stream",
     "text": [
      "47|47|47|47|47|47|47|47|47|47|47|47|47|47|47|47|47|47|47|47|47|47|47|47|47|47|47|47|47|47|47|47|47|47|47|47|47|47|47|47|47|47|47|47|47|47|47| <class 'str'>\n",
      "47|47\n"
     ]
    }
   ],
   "source": [
    "a = \"47|\"\n",
    "b = 47\n",
    "c = a * b\n",
    "print(c, type(c))\n",
    "c = a + str(b)\n",
    "print(c)"
   ]
  },
  {
   "cell_type": "markdown",
   "metadata": {},
   "source": [
    "### ChatGPT зробив нам програму, яка виводить рівнобедрений трикутник з символів *"
   ]
  },
  {
   "cell_type": "code",
   "execution_count": null,
   "metadata": {},
   "outputs": [
    {
     "name": "stdout",
     "output_type": "stream",
     "text": [
      "    *\n",
      "   ***\n",
      "  *****\n",
      " *******\n",
      "*********\n"
     ]
    }
   ],
   "source": [
    "# Виведення рівнобедреного трикутника з символів '*'\n",
    "def print_isosceles_triangle(height):\n",
    "    for i in range(1, height + 1):\n",
    "        # Виводимо пробіли для центрування\n",
    "        print(' ' * (height - i) + '*' * (2 * i - 1))\n",
    "\n",
    "# Вказуємо висоту трикутника\n",
    "triangle_height = 5\n",
    "print_isosceles_triangle(triangle_height)\n"
   ]
  },
  {
   "cell_type": "markdown",
   "metadata": {},
   "source": [
    "### Колекції - комплексні типи даних\n",
    " - list - це просто набір різних типів даних, все зібрано докупи\n",
    " - впорядкована колекція - тобто кожен елемент має свою позицію (індекси)\n",
    " - номерація або індекси починаються з 0\n",
    " - у Пайтон також є відємні індекси\n",
    " - списки можуть бути змінними"
   ]
  },
  {
   "cell_type": "code",
   "execution_count": null,
   "metadata": {},
   "outputs": [
    {
     "name": "stdout",
     "output_type": "stream",
     "text": [
      "[10, '10', [2, 4], '3', 3.5]\n",
      "10 <class 'str'> А тепер до 0-го елемента:  10\n",
      "3.5 <class 'float'>\n",
      "[10, [2, 4], 3.5, 6]\n"
     ]
    }
   ],
   "source": [
    "# Список з різними типами даних\n",
    "l = [10, \"10\", [2, 4], '3', 3.5]\n",
    "print(l)\n",
    "\n",
    "# Вивід елементів за індексами\n",
    "print(l[1], type(l[1]), \"А тепер до 0-го елемента: \", l[0])\n",
    "print(l[-1], type(l[-1]))\n",
    "\n",
    "# Додавання, видалення та видалення елемента за індексом\n",
    "l.append(6)\n",
    "l.remove('3')\n",
    "l.pop(1)  # Вивід міг би бути '10', який був на індексі 1\n",
    "print(l)\n"
   ]
  },
  {
   "cell_type": "markdown",
   "metadata": {},
   "source": [
    " - dict або словники\n",
    " - в словниках всі дані знаходяться на іменних позиціях\n",
    " - особливість словника що ключі або назви позицій мають бути унікальними\n",
    " - словники є mutable - тобто можна змінювати"
   ]
  },
  {
   "cell_type": "code",
   "execution_count": null,
   "metadata": {},
   "outputs": [
    {
     "name": "stdout",
     "output_type": "stream",
     "text": [
      "{'username': 'admin', 1: 'Перевизначений', 2: 2, 'Два': 2}\n",
      "{'username': 'admin', 1: 'Перевизначений', 2: 2, 'Два': 2, 'Один': 1}\n",
      "Перевизначений 1\n",
      "Новосад Максим\n",
      "{'username': 'admin', 2: 2, 'Два': 2, 'Один': 1}\n"
     ]
    }
   ],
   "source": [
    "# Словник з різними ключами та значеннями\n",
    "d = {\"username\": \"admin\", 1: \"Один\", 2: 2, \"Два\": 2, 1: \"Перевизначений\"}\n",
    "print(d)\n",
    "\n",
    "# Додавання нового ключа\n",
    "d[\"Один\"] = 1\n",
    "print(d)\n",
    "\n",
    "# Вивід значень за ключами\n",
    "print(d[1], d[\"Один\"])\n",
    "\n",
    "# Словник студентів\n",
    "Student = {\"Прізвище\": [\"Новосад\", \"Занько\"], \"Ім'я\": [\"Максим\", \"Сергій\"]}\n",
    "print(Student[\"Прізвище\"][0], Student[\"Ім'я\"][0])\n",
    "\n",
    "# Видалення елемента за ключем\n",
    "d.pop(1)\n",
    "print(d)\n"
   ]
  },
  {
   "cell_type": "markdown",
   "metadata": {},
   "source": [
    " - tuple - це незмінна колекція після її створення\n",
    " - впорядкована, кожен елемент на своєму місці та початок з 0"
   ]
  },
  {
   "cell_type": "code",
   "execution_count": null,
   "metadata": {},
   "outputs": [
    {
     "name": "stdout",
     "output_type": "stream",
     "text": [
      "Рхуємо кількість цифр 1 0 5 47\n",
      "1\n"
     ]
    }
   ],
   "source": [
    "t = (47, \"0\", \"Курдулі\", \"0\", 47)\n",
    "\n",
    "print(\"Рхуємо кількість цифр 1\", t.count(1), len(t), t[0])\n",
    "print(t.index(\"0\"))"
   ]
  },
  {
   "cell_type": "markdown",
   "metadata": {},
   "source": [
    " - set - колекція унікальних елементів\n",
    " - невпорядкована колекція, тобто немає індексів (просто куча даних)"
   ]
  },
  {
   "cell_type": "code",
   "execution_count": null,
   "metadata": {},
   "outputs": [
    {
     "name": "stdout",
     "output_type": "stream",
     "text": [
      "Початкова множина: {1, 2, '2', 'Два', 'Три'}\n",
      "Множина після додавання елементів: {1, 2, 5, '2', 'Два', 'Три', 'Чотири'}\n",
      "Видалений елемент з множини: 1\n",
      "Множина після видалення елемента: {2, 5, '2', 'Два', 'Три', 'Чотири'}\n"
     ]
    }
   ],
   "source": [
    "# Кортеж з різними типами даних\n",
    "t = (2, \"Два\", \"Три\", \"2\", 1)\n",
    "\n",
    "# Створення множини з кортежу\n",
    "s = set(t)\n",
    "print(\"Початкова множина:\", s)\n",
    "\n",
    "# Додавання нових елементів\n",
    "s.add(5)\n",
    "s.add('Чотири')\n",
    "print(\"Множина після додавання елементів:\", s)\n",
    "\n",
    "# Випадковий елемент з множини\n",
    "removed_element = s.pop()\n",
    "print(\"Видалений елемент з множини:\", removed_element)\n",
    "print(\"Множина після видалення елемента:\", s)\n"
   ]
  },
  {
   "cell_type": "code",
   "execution_count": null,
   "metadata": {},
   "outputs": [
    {
     "name": "stdout",
     "output_type": "stream",
     "text": [
      "-469414576\n"
     ]
    }
   ],
   "source": [
    "a = \"A\"\n",
    "b = \"A\"\n",
    "a.__hash__() == b.__hash__()\n",
    "print(a.__hash__())"
   ]
  },
  {
   "cell_type": "markdown",
   "metadata": {},
   "source": [
    "### Способи виводу інформації/даних"
   ]
  },
  {
   "cell_type": "code",
   "execution_count": 10,
   "metadata": {},
   "outputs": [
    {
     "data": {
      "text/plain": [
       "'Hello. My name is Max.'"
      ]
     },
     "execution_count": 10,
     "metadata": {},
     "output_type": "execute_result"
    }
   ],
   "source": [
    "p = \"Hello. My name is Max.\"\n",
    "p"
   ]
  },
  {
   "cell_type": "code",
   "execution_count": 16,
   "metadata": {},
   "outputs": [
    {
     "name": "stdout",
     "output_type": "stream",
     "text": [
      "Hello. My name is Max. How are you?\n",
      "відповідь: Super Sus\n"
     ]
    }
   ],
   "source": [
    "print(p, \"How are you?\")\n",
    "i = \"Super Sus\"\n",
    "print(\"відповідь\" + \": \" + i )"
   ]
  },
  {
   "cell_type": "code",
   "execution_count": 18,
   "metadata": {},
   "outputs": [
    {
     "name": "stdout",
     "output_type": "stream",
     "text": [
      "Починаємо стрічку\n",
      "Тут буде ВСТАВКА та ще додамо цифру 5\n",
      "5 рівне 5 та не рівне 6\n",
      "Це буде форматована Вставка з числом 2.12\n",
      "Цей текст має вставку і число 10\n",
      "Користувач: Susanin, Баланс: $150.57\n"
     ]
    }
   ],
   "source": [
    "print(\"Починаємо стрічку\")\n",
    "print(\"Тут буде {} та ще додамо цифру {}\".format(\"ВСТАВКА\", 5))\n",
    "print(\"{0} рівне {0} та не рівне {1}\".format(5, 6))\n",
    "print(\"Це буде форматована %s з числом %.2f\" % (\"Вставка\", 2.12345))\n",
    "\n",
    "# Форматування стрічки без змінної в print\n",
    "print(\"Цей текст має {} і число {}\".format(\"вставку\", 10))\n",
    "print(\"Користувач: {}, Баланс: ${:.2f}\".format(\"Susanin\", 150.567))\n"
   ]
  },
  {
   "cell_type": "code",
   "execution_count": 26,
   "metadata": {},
   "outputs": [
    {
     "name": "stdout",
     "output_type": "stream",
     "text": [
      "Сегрій те те тхроха духрак: Шумйонський Гайфійд, довжина рядка: 19, вставлене число: 47\n"
     ]
    }
   ],
   "source": [
    "s = \"Шумйонський Гайфійд\"\n",
    "s1 = 47\n",
    "\n",
    "ff = f\"Сегрій те те тхроха духрак: {s}, довжина рядка: {len(s)}, вставлене число: {s1}\"\n",
    "print(ff)\n"
   ]
  }
 ],
 "metadata": {
  "kernelspec": {
   "display_name": "Python 3",
   "language": "python",
   "name": "python3"
  },
  "language_info": {
   "codemirror_mode": {
    "name": "ipython",
    "version": 3
   },
   "file_extension": ".py",
   "mimetype": "text/x-python",
   "name": "python",
   "nbconvert_exporter": "python",
   "pygments_lexer": "ipython3",
   "version": "3.12.5"
  }
 },
 "nbformat": 4,
 "nbformat_minor": 2
}
