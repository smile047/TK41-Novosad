{
 "cells": [
  {
   "cell_type": "markdown",
   "metadata": {},
   "source": [
    "### Знайомство з ООП\n"
   ]
  },
  {
   "cell_type": "code",
   "execution_count": 62,
   "metadata": {},
   "outputs": [
    {
     "data": {
      "text/plain": [
       "<module 'my_class' from 'c:\\\\Users\\\\User\\\\Music\\\\TK-41 VS GITHUB\\\\TK41-Novosad\\\\3_lab\\\\my_class.py'>"
      ]
     },
     "execution_count": 62,
     "metadata": {},
     "output_type": "execute_result"
    }
   ],
   "source": [
    "import importlib\n",
    "import my_class\n",
    "\n",
    "importlib.reload(my_class)"
   ]
  },
  {
   "cell_type": "code",
   "execution_count": 58,
   "metadata": {},
   "outputs": [
    {
     "name": "stdout",
     "output_type": "stream",
     "text": [
      "<class 'my_class.MySuperClass'>\n",
      "Help on class MySuperClass in module my_class:\n",
      "\n",
      "class MySuperClass(builtins.object)\n",
      " |  MySuperClass(surname: str, name, mark: int, group=None)\n",
      " |\n",
      " |  Тестовий клас, зараз реалізуємо опис студента\n",
      " |\n",
      " |  ---\n",
      " |\n",
      " |  surname : str\n",
      " |      Прізвище студента\n",
      " |\n",
      " |  Methods defined here:\n",
      " |\n",
      " |  __del__(self)\n",
      " |\n",
      " |  __init__(self, surname: str, name, mark: int, group=None)\n",
      " |      Ініціалізуємо обєкт\n",
      " |      - в середині конструктора створюються атрибути\n",
      " |\n",
      " |  __len__(self)\n",
      " |\n",
      " |  __repr__(self)\n",
      " |      Return repr(self).\n",
      " |\n",
      " |  calculate_scholarship_after_session(self, raiting: int)\n",
      " |\n",
      " |  fucntion_in_class(self)\n",
      " |      Це вже метод згідно термінології, і він публічний\n",
      " |\n",
      " |  panishment(self)\n",
      " |\n",
      " |  ----------------------------------------------------------------------\n",
      " |  Readonly properties defined here:\n",
      " |\n",
      " |  college_raiting\n",
      " |\n",
      " |  name\n",
      " |      Ця властивість є закритою, її можна читати але не можна змінювати\n",
      " |\n",
      " |  say_hello\n",
      " |\n",
      " |  surname\n",
      " |\n",
      " |  ----------------------------------------------------------------------\n",
      " |  Data descriptors defined here:\n",
      " |\n",
      " |  __dict__\n",
      " |      dictionary for instance variables\n",
      " |\n",
      " |  __weakref__\n",
      " |      list of weak references to the object\n",
      " |\n",
      " |  ----------------------------------------------------------------------\n",
      " |  Data and other attributes defined here:\n",
      " |\n",
      " |  COLLEGE_NAME = 'Це подібне до константи в клосі, але ми можемо її пере...\n",
      " |\n",
      " |  total_marks = 0\n",
      " |\n",
      " |  total_students = 0\n",
      " |\n",
      " |  var_lover_case = 'Це проста класова змінна'\n",
      "\n"
     ]
    }
   ],
   "source": [
    "from my_class import MySuperClass, function_in_module\n",
    "\n",
    "print(MySuperClass)\n",
    "help(MySuperClass)"
   ]
  },
  {
   "cell_type": "code",
   "execution_count": 52,
   "metadata": {},
   "outputs": [
    {
     "name": "stdout",
     "output_type": "stream",
     "text": [
      "['Студент us S отримав оцінку 4', 'Студент ob B отримав оцінку 5', 'Студент us S отримав оцінку 3', 'Студент id D отримав оцінку 4']\n"
     ]
    }
   ],
   "source": [
    "name = [\"S\", \"B\", \"S\", \"D\"]\n",
    "surname = [\"us\", \"ob\", \"us\", \"id\"]\n",
    "mark = [4, 5, 3, 4]\n",
    "\n",
    "print([f\"Студент {surname[i]} {name[i]} отримав оцінку {mark[i]}\" for i in range(len(name))])"
   ]
  },
  {
   "cell_type": "code",
   "execution_count": 53,
   "metadata": {},
   "outputs": [
    {
     "name": "stdout",
     "output_type": "stream",
     "text": [
      "Студент S us отримав оцінку 4\n",
      "Студент B ob отримав оцінку 5\n",
      "Студент S us отримав оцінку 3\n",
      "Студент D id отримав оцінку 4\n"
     ]
    }
   ],
   "source": [
    "d = {\n",
    "    \"Прізвище\": [\"S\", \"B\", \"S\", \"D\"],\n",
    "    \"Імя\": [\"us\", \"ob\", \"us\", \"id\"],\n",
    "    \"Оцінка\": [4, 5, 3, 4]\n",
    "}\n",
    "\n",
    "for i in range(len(d[\"Прізвище\"])):\n",
    "    print(f\"Студент {d[\"Прізвище\"][i]} {d[\"Імя\"][i]} отримав оцінку {d[\"Оцінка\"][i]}\")"
   ]
  },
  {
   "cell_type": "markdown",
   "metadata": {},
   "source": [
    " - в класі є особлива змінна self яка є вказівником на обєкт"
   ]
  },
  {
   "cell_type": "code",
   "execution_count": 54,
   "metadata": {},
   "outputs": [
    {
     "name": "stdout",
     "output_type": "stream",
     "text": [
      "Викликаємо __init__\n",
      "Викликаємо __init__\n",
      "Викликаємо __init__\n",
      "Викликаємо __init__\n",
      "Відрахували студента\n",
      "Відрахували студента\n",
      "Відрахували студента\n",
      "Відрахували студента\n",
      "Студент B VB отримав оцінку 4\n",
      "Студент B FB отримав оцінку 5\n",
      "Студент S DS отримав оцінку 3\n",
      "Студент D TY отримав оцінку 4\n"
     ]
    }
   ],
   "source": [
    "from my_class import MySuperClass\n",
    "\n",
    "# Тепер передаємо 3 аргументи (параметр `group` буде `None` за замовчуванням)\n",
    "c = [\n",
    "    MySuperClass(\"B\", \"VB\", 4),  # group = None за замовчуванням\n",
    "    MySuperClass(\"B\", \"FB\", 5),  # group = None за замовчуванням\n",
    "    MySuperClass(\"S\", \"DS\", 3),  # group = None за замовчуванням\n",
    "    MySuperClass(\"D\", \"TY\", 4)   # group = None за замовчуванням\n",
    "]\n",
    "\n",
    "for student in c:\n",
    "    print(f\"Студент {student.surname} {student.name} отримав оцінку {student.mark}\")\n",
    "\n",
    "\n"
   ]
  },
  {
   "cell_type": "markdown",
   "metadata": {},
   "source": [
    "### Термінологія\n",
    "- __init__ - аналог конструктора, це є перший метод який викликається при створення обєкта\n",
    "- __repr__ - стрічкове представлення нашого обєкту\n",
    "- __docstring__ - опис класу, що він робити та як ним користуватись\n",
    "- всі методи як мають подвійне підкреслення називаються Магічними\n",
    "- будь-що що передається на вхід функції або нашого коструктора називається __аргументом__, наприклад surname це аршументом\n",
    "- коли інфціалізується обєкт то йому присвоюються __атрибути__"
   ]
  },
  {
   "cell_type": "code",
   "execution_count": 55,
   "metadata": {},
   "outputs": [
    {
     "name": "stdout",
     "output_type": "stream",
     "text": [
      "Викликаємо __init__\n",
      "Відрахували студента\n",
      "Представлення обєкту Студент, його задають: MySuperClass(surname, name, mark)\n",
      "Help on MySuperClass in module my_class object:\n",
      "\n",
      "class MySuperClass(builtins.object)\n",
      " |  MySuperClass(surname: str, name, mark: int, group=None)\n",
      " |\n",
      " |  Тестовий клас, зараз реалізуємо опис студента\n",
      " |\n",
      " |  ---\n",
      " |\n",
      " |  surname : str\n",
      " |      Прізвище студента\n",
      " |\n",
      " |  Methods defined here:\n",
      " |\n",
      " |  __del__(self)\n",
      " |\n",
      " |  __init__(self, surname: str, name, mark: int, group=None)\n",
      " |      Ініціалізуємо обєкт\n",
      " |      - в середині конструктора створюються атрибути\n",
      " |\n",
      " |  __len__(self)\n",
      " |\n",
      " |  __repr__(self)\n",
      " |      Return repr(self).\n",
      " |\n",
      " |  calculate_scholarship_after_session(self, raiting: int)\n",
      " |\n",
      " |  fucntion_in_class(self)\n",
      " |      Це вже метод згідно термінології, і він публічний\n",
      " |\n",
      " |  panishment(self)\n",
      " |\n",
      " |  ----------------------------------------------------------------------\n",
      " |  Readonly properties defined here:\n",
      " |\n",
      " |  college_raiting\n",
      " |\n",
      " |  name\n",
      " |      Ця властивість є закритою, її можна читати але не можна змінювати\n",
      " |\n",
      " |  say_hello\n",
      " |\n",
      " |  surname\n",
      " |\n",
      " |  ----------------------------------------------------------------------\n",
      " |  Data descriptors defined here:\n",
      " |\n",
      " |  __dict__\n",
      " |      dictionary for instance variables\n",
      " |\n",
      " |  __weakref__\n",
      " |      list of weak references to the object\n",
      " |\n",
      " |  ----------------------------------------------------------------------\n",
      " |  Data and other attributes defined here:\n",
      " |\n",
      " |  COLLEGE_NAME = 'Це подібне до константи в клосі, але ми можемо її пере...\n",
      " |\n",
      " |  total_marks = 24\n",
      " |\n",
      " |  total_students = 0\n",
      " |\n",
      " |  var_lover_case = 'Це проста класова змінна'\n",
      "\n",
      "Довжина прізвища: 8\n",
      "Беремо атрибут імені: Max\n"
     ]
    }
   ],
   "source": [
    "\n",
    "from my_class import MySuperClass\n",
    "\n",
    "# Тепер передаємо всі необхідні параметри\n",
    "obj = MySuperClass(\"SuperSus\", \"Max\", 8)  # де \"SuperSus\" - прізвище, \"Ivan\" - ім'я, 8 - оцінка\n",
    "\n",
    "print(obj)\n",
    "help(obj)\n",
    "\n",
    "print(\"Довжина прізвища:\", len(obj.surname))  # Перевіряємо довжину прізвища\n",
    "\n",
    "# Якщо атрибут 'name' існує, ви можете використовувати його\n",
    "print(\"Беремо атрибут імені:\", obj.name)\n"
   ]
  },
  {
   "cell_type": "markdown",
   "metadata": {},
   "source": [
    "### Принципи роботи атрибутів та властивостей\n",
    "- хоча ми можемо задавати типи аргументів які пердаються в конструктор, нічого не буде якщо ми їх не дотримаємось\n",
    "- при створенні обєкта всі методи та атриути які були в класі також будуть в обєкт\n",
    "- але ми можемо створювати динамічні атрибути, які будуть властиві лише для конкретного обєкта\n",
    "- коли створюються динамічні атрибути вони порушують механіку класу, найчастіше тому задають наперед визначені атрибути\n",
    "- Значення атрибутів можна змінювати/модифікувати під час роботи з ними\n",
    "- але існують так звані Властивості - це тіж самі поля з інформацією про обєкт але їх не можна модифікувати\n",
    "- якщо ми хочемо щоб якісь дані були незмінними то ми створюємо властивості а в середині конструктора передбачаємо приватні атрибути\n",
    "- до паблік та пзахищених атрибутів можна доступитись і змінити їх, але ніяк до приватних"
   ]
  },
  {
   "cell_type": "code",
   "execution_count": 60,
   "metadata": {},
   "outputs": [],
   "source": [
    "def __init__(self, surname: str, name, mark: int, group=None):\n",
    "    \"\"\"\n",
    "    Ініціалізуємо об'єкт\n",
    "    - в середині конструктора створюються атрибути\n",
    "    \"\"\"\n",
    "    print(\"Викликаємо __init__\")\n",
    "    self.__surname = surname  # private\n",
    "    self.__name = name\n",
    "    self.mark = mark  # public\n",
    "    self.group = group\n",
    "    self._age = None  # protected\n",
    "    self._scholarship = 0\n",
    "\n",
    "    self.var_lover_case = \"Перезаписали класову змінну\"\n",
    "    MySuperClass.total_students += 1\n",
    "    \n",
    "    # Перевіряємо, чи mark — це число, і лише тоді додаємо\n",
    "    if isinstance(mark, (int, float)):  # Якщо mark є числом\n",
    "        MySuperClass.total_marks += mark\n",
    "    else:\n",
    "        try:\n",
    "            MySuperClass.total_marks += float(mark)  # Пробуємо перетворити на число\n",
    "        except ValueError:\n",
    "            print(f\"Невірне значення для mark: {mark}, не можна перетворити в число.\")\n"
   ]
  },
  {
   "cell_type": "code",
   "execution_count": null,
   "metadata": {},
   "outputs": [
    {
     "name": "stdout",
     "output_type": "stream",
     "text": [
      "10\n"
     ]
    }
   ],
   "source": [
    "class MySuperClass:\n",
    "    def __init__(self, surname, name, mark, age=None):\n",
    "        self.surname = surname\n",
    "        self.name = name\n",
    "        self.mark = mark\n",
    "        self._age = age  # Ініціалізація атрибуту _age\n",
    "\n",
    "s1 = MySuperClass(\"Петренко\", \"Іван\", 85)\n",
    "s1._age = 10  # Встановлюємо значення\n",
    "print(s1._age)  # Виведе 10\n"
   ]
  },
  {
   "cell_type": "markdown",
   "metadata": {},
   "source": [
    "### Методи класу"
   ]
  },
  {
   "cell_type": "code",
   "execution_count": null,
   "metadata": {},
   "outputs": [
    {
     "name": "stdout",
     "output_type": "stream",
     "text": [
      "Викликаємо __init__\n",
      "Ми викликали публічний метод\n",
      "Це приватний метод!\n",
      "Ми доступаємось до захищеного методу\n",
      "\n",
      "Тільки поступив вчитись в коледж: 0\n",
      "Провчились семестр і середній бал вийшов вище 90:  Присвоєно підвищену стипундію\n",
      "І тепер моя стипендія : 2200 грн\n",
      "За другий семестр, я набрав 79 балів : Присвоєно звичайну стипундію\n",
      "І тепер моя стипендія вийшла: 1510 грн\n",
      "Перестали вчитись та пішов працювати на роботу : Рейтинг занизький для стипендії\n",
      "І тепер я не отримую стипендію: 0\n",
      "\n"
     ]
    }
   ],
   "source": [
    "from my_class import MySuperClass\n",
    "\n",
    "s1 = MySuperClass(1, \"Один\", \"1\")\n",
    "\n",
    "print(s1.fucntion_in_class())\n",
    "print(s1._protected_method_in_class())\n",
    "\n",
    "print(f\"\"\"\n",
    "Тільки поступив вчитись в коледж: {s1._scholarship}\n",
    "Провчились семестр і середній бал вийшов вище 90:  {s1.calculate_scholarship_after_session(5)}\n",
    "І тепер моя стипендія : {s1._scholarship}\n",
    "За другий семестр, я набрав 79 балів : {s1.calculate_scholarship_after_session(4)}\n",
    "І тепер моя стипендія вийшла: {s1._scholarship}\n",
    "Перестали вчитись та пішов працювати на роботу : {s1.calculate_scholarship_after_session(3)}\n",
    "І тепер я не отримую стипендію: {s1._scholarship}\n",
    "\"\"\")"
   ]
  },
  {
   "cell_type": "markdown",
   "metadata": {},
   "source": [
    "### Завдання виконане за допомогою ChatGPT"
   ]
  },
  {
   "cell_type": "code",
   "execution_count": null,
   "metadata": {},
   "outputs": [
    {
     "name": "stdout",
     "output_type": "stream",
     "text": [
      "Автомобіль 'BMW X5' доданий до автосалону.\n",
      "Автомобіль 'BMW 3 Series' доданий до автосалону.\n",
      "Автомобіль 'BMW Z4' доданий до автосалону.\n",
      "\n",
      "Автомобілі в автосалоні:\n",
      "BMW X5 (2005) - 800000 грн\n",
      "BMW 3 Series (2005) - 600000 грн\n",
      "BMW Z4 (2005) - 700000 грн\n",
      "\n",
      "Автомобілі 2005 року:\n",
      "[BMW X5 (2005) - 800000 грн, BMW 3 Series (2005) - 600000 грн, BMW Z4 (2005) - 700000 грн]\n",
      "Автомобіль 'BMW X5' видалений з автосалону.\n",
      "\n",
      "Автомобілі в автосалоні після видалення:\n",
      "BMW 3 Series (2005) - 600000 грн\n",
      "BMW Z4 (2005) - 700000 грн\n"
     ]
    }
   ],
   "source": [
    "from my_class import Car, BMWShowroom\n",
    "\n",
    "# Створюємо автосалон BMW\n",
    "showroom = BMWShowroom()\n",
    "\n",
    "# Створюємо кілька автомобілів BMW\n",
    "car1 = Car(\"BMW X5\", 2005, 800000)\n",
    "car2 = Car(\"BMW 3 Series\", 2005, 600000)\n",
    "car3 = Car(\"BMW Z4\", 2005, 700000)\n",
    "\n",
    "# Додаємо автомобілі до автосалону\n",
    "print(showroom.add_car(car1))\n",
    "print(showroom.add_car(car2))\n",
    "print(showroom.add_car(car3))\n",
    "\n",
    "# Виводимо всі автомобілі в автосалоні\n",
    "print(\"\\nАвтомобілі в автосалоні:\")\n",
    "print(showroom.display_cars())\n",
    "\n",
    "# Шукаємо автомобілі за роком\n",
    "print(\"\\nАвтомобілі 2005 року:\")\n",
    "print(showroom.find_cars_by_year(2005))\n",
    "\n",
    "# Видаляємо автомобіль\n",
    "print(showroom.remove_car(\"BMW X5\"))\n",
    "\n",
    "# Виводимо всі автомобілі після видалення\n",
    "print(\"\\nАвтомобілі в автосалоні після видалення:\")\n",
    "print(showroom.display_cars())\n"
   ]
  },
  {
   "cell_type": "markdown",
   "metadata": {},
   "source": []
  },
  {
   "cell_type": "markdown",
   "metadata": {},
   "source": [
    "### Методи класу"
   ]
  },
  {
   "cell_type": "code",
   "execution_count": null,
   "metadata": {},
   "outputs": [
    {
     "name": "stdout",
     "output_type": "stream",
     "text": [
      "Відрахували студента\n"
     ]
    }
   ],
   "source": [
    "del s1"
   ]
  },
  {
   "cell_type": "code",
   "execution_count": null,
   "metadata": {},
   "outputs": [
    {
     "name": "stdout",
     "output_type": "stream",
     "text": [
      "Викликаємо __init__\n",
      "Відрахували студента\n",
      "Викликаємо __init__\n",
      "Відрахували студента\n",
      "Перазаписали класові змінну Це проста класова змінна\n",
      "3 6.0\n"
     ]
    }
   ],
   "source": [
    "from my_class import MySuperClass\n",
    "\n",
    "s1 = MySuperClass(1, \"Один\", 1)\n",
    "s2 = MySuperClass(2, \"Два\", 3)\n",
    "\n",
    "print(s1.var_lover_case, MySuperClass.var_lover_case)\n",
    "print(MySuperClass.total_students, s1.college_raiting)"
   ]
  },
  {
   "cell_type": "markdown",
   "metadata": {},
   "source": [
    "### Завдання виконане за допомогою ChatGPT"
   ]
  },
  {
   "cell_type": "code",
   "execution_count": 64,
   "metadata": {},
   "outputs": [
    {
     "name": "stdout",
     "output_type": "stream",
     "text": [
      "Викликаємо __init__\n",
      "Відрахували студента\n",
      "Викликаємо __init__\n",
      "Відрахували студента\n",
      "Перазаписали класові змінну\n",
      "Це проста класова змінна\n",
      "Кількість студентів: 0\n",
      "Загальна сума балів: 8\n",
      "Рейтинг коледжу: <property object at 0x00EE42A8>\n",
      "Представлення обєкту Студент, його задають: MySuperClass(surname, name, mark)\n",
      "Представлення обєкту Студент, його задають: MySuperClass(surname, name, mark)\n"
     ]
    }
   ],
   "source": [
    "# імпортуємо клас з my_class.py\n",
    "from my_class import MySuperClass\n",
    "\n",
    "# Створення студентів\n",
    "s1 = MySuperClass(1, \"Один\", 1)\n",
    "s2 = MySuperClass(2, \"Два\", 3)\n",
    "\n",
    "# Використання атрибутів екземпляра та класу\n",
    "print(s1.var_lover_case)  # Виведе \"Змінна класу\" (це атрибут екземпляра)\n",
    "print(MySuperClass.var_lover_case)  # Тепер це працює, виведе \"Змінна класу\" (це атрибут класу)\n",
    "\n",
    "# Кількість студентів та середній бал\n",
    "print(\"Кількість студентів:\", MySuperClass.total_students)  # Виведе 2\n",
    "print(\"Загальна сума балів:\", MySuperClass.total_marks)  # Виведе 4 (1 + 3)\n",
    "\n",
    "\n",
    "# Доступ до загального рейтингу коледжу\n",
    "print(\"Рейтинг коледжу:\", MySuperClass.college_raiting)  # Виведе \"Високий\"\n",
    "\n",
    "# Перевірка методів класу та екземпляра\n",
    "print(s1)  # Викликає __repr__ для s1, виведе \"Студент Один Один, Оцінка: 1\"\n",
    "print(s2)  # Викликає __repr__ для s2, виведе \"Студент Два Два, Оцінка: 3\""
   ]
  }
 ],
 "metadata": {
  "kernelspec": {
   "display_name": "Python 3",
   "language": "python",
   "name": "python3"
  },
  "language_info": {
   "codemirror_mode": {
    "name": "ipython",
    "version": 3
   },
   "file_extension": ".py",
   "mimetype": "text/x-python",
   "name": "python",
   "nbconvert_exporter": "python",
   "pygments_lexer": "ipython3",
   "version": "3.12.5"
  }
 },
 "nbformat": 4,
 "nbformat_minor": 2
}
