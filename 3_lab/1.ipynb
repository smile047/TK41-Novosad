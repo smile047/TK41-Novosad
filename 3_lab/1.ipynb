{
 "cells": [
  {
   "cell_type": "markdown",
   "metadata": {},
   "source": [
    "### Знайомство з ООП\n",
    " - потрібно 2 пайтон файли, Пайтон наутбук де будемо працювати з кодом та простий файл Пайтон де буде наш Клас\n",
    " - через те що Юпітер кешує імпорти, після зміни в нашому модулі ми повинні кожного разу перезавантажувати наш можуть, тобто виконувати комірку знизу"
   ]
  },
  {
   "cell_type": "code",
   "execution_count": 3,
   "metadata": {},
   "outputs": [
    {
     "data": {
      "text/plain": [
       "<module 'my_class' from 'c:\\\\Users\\\\User\\\\Music\\\\TK-41 VS GITHUB\\\\TK41-Novosad\\\\3_lab\\\\my_class.py'>"
      ]
     },
     "execution_count": 3,
     "metadata": {},
     "output_type": "execute_result"
    }
   ],
   "source": [
    "import importlib\n",
    "import my_class\n",
    "\n",
    "importlib.reload(my_class)"
   ]
  },
  {
   "cell_type": "code",
   "execution_count": 4,
   "metadata": {},
   "outputs": [
    {
     "name": "stdout",
     "output_type": "stream",
     "text": [
      "<class 'my_class.MySuperClass'>\n",
      "Help on class MySuperClass in module my_class:\n",
      "\n",
      "class MySuperClass(builtins.object)\n",
      " |  MySuperClass(surname, name, mark)\n",
      " |\n",
      " |  Methods defined here:\n",
      " |\n",
      " |  __init__(self, surname, name, mark)\n",
      " |      Initialize self.  See help(type(self)) for accurate signature.\n",
      " |\n",
      " |  ----------------------------------------------------------------------\n",
      " |  Data descriptors defined here:\n",
      " |\n",
      " |  __dict__\n",
      " |      dictionary for instance variables\n",
      " |\n",
      " |  __weakref__\n",
      " |      list of weak references to the object\n",
      "\n"
     ]
    }
   ],
   "source": [
    "from my_class import MySuperClass, function_in_module\n",
    "\n",
    "print(MySuperClass)\n",
    "help(MySuperClass)"
   ]
  },
  {
   "cell_type": "code",
   "execution_count": 5,
   "metadata": {},
   "outputs": [
    {
     "name": "stdout",
     "output_type": "stream",
     "text": [
      "['Студент us S отримав оцінку 4', 'Студент ob B отримав оцінку 5', 'Студент us S отримав оцінку 3', 'Студент id D отримав оцінку 4']\n"
     ]
    }
   ],
   "source": [
    "name = [\"S\", \"B\", \"S\", \"D\"]\n",
    "surname = [\"us\", \"ob\", \"us\", \"id\"]\n",
    "mark = [4, 5, 3, 4]\n",
    "\n",
    "print([f\"Студент {surname[i]} {name[i]} отримав оцінку {mark[i]}\" for i in range(len(name))])"
   ]
  },
  {
   "cell_type": "code",
   "execution_count": 6,
   "metadata": {},
   "outputs": [
    {
     "name": "stdout",
     "output_type": "stream",
     "text": [
      "Студент S us отримав оцінку 4\n",
      "Студент B ob отримав оцінку 5\n",
      "Студент S us отримав оцінку 3\n",
      "Студент D id отримав оцінку 4\n"
     ]
    }
   ],
   "source": [
    "d = {\n",
    "    \"Прізвище\": [\"S\", \"B\", \"S\", \"D\"],\n",
    "    \"Імя\": [\"us\", \"ob\", \"us\", \"id\"],\n",
    "    \"Оцінка\": [4, 5, 3, 4]\n",
    "}\n",
    "\n",
    "for i in range(len(d[\"Прізвище\"])):\n",
    "    print(f\"Студент {d[\"Прізвище\"][i]} {d[\"Імя\"][i]} отримав оцінку {d[\"Оцінка\"][i]}\")"
   ]
  },
  {
   "cell_type": "markdown",
   "metadata": {},
   "source": [
    " - в класі є особлива змінна self яка є вказівником на обєкт"
   ]
  },
  {
   "cell_type": "code",
   "execution_count": 7,
   "metadata": {},
   "outputs": [
    {
     "name": "stdout",
     "output_type": "stream",
     "text": [
      "Студент s us отримав оцінку 3\n",
      "Студент u ra отримав оцінку 5\n",
      "Студент s us отримав оцінку 4\n",
      "Студент s us отримав оцінку 2\n"
     ]
    }
   ],
   "source": [
    "from my_class import MySuperClass\n",
    "c = [MySuperClass(\"s\", \"us\", 3),\n",
    "     MySuperClass(\"u\", \"ra\", 5),\n",
    "     MySuperClass(\"s\", \"us\", 4),\n",
    "     MySuperClass(\"s\", \"us\", 2)\n",
    "     ]\n",
    "\n",
    "for student in c:\n",
    "    print(f\"Студент {student.surname} {student.name} отримав оцінку {student.mark}\")"
   ]
  }
 ],
 "metadata": {
  "kernelspec": {
   "display_name": "Python 3",
   "language": "python",
   "name": "python3"
  },
  "language_info": {
   "codemirror_mode": {
    "name": "ipython",
    "version": 3
   },
   "file_extension": ".py",
   "mimetype": "text/x-python",
   "name": "python",
   "nbconvert_exporter": "python",
   "pygments_lexer": "ipython3",
   "version": "3.12.5"
  }
 },
 "nbformat": 4,
 "nbformat_minor": 2
}
