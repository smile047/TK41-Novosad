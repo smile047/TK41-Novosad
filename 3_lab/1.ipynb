{
 "cells": [
  {
   "cell_type": "markdown",
   "metadata": {},
   "source": [
    "### Знайомство з ООП\n"
   ]
  },
  {
   "cell_type": "code",
   "execution_count": 51,
   "metadata": {},
   "outputs": [
    {
     "data": {
      "text/plain": [
       "<module 'my_class' from 'c:\\\\Users\\\\User\\\\Music\\\\TK-41 VS GITHUB\\\\TK41-Novosad\\\\3_lab\\\\my_class.py'>"
      ]
     },
     "execution_count": 51,
     "metadata": {},
     "output_type": "execute_result"
    }
   ],
   "source": [
    "import importlib\n",
    "import my_class\n",
    "\n",
    "importlib.reload(my_class)"
   ]
  },
  {
   "cell_type": "code",
   "execution_count": 44,
   "metadata": {},
   "outputs": [
    {
     "name": "stdout",
     "output_type": "stream",
     "text": [
      "<class 'my_class.MySuperClass'>\n",
      "Help on class MySuperClass in module my_class:\n",
      "\n",
      "class MySuperClass(builtins.object)\n",
      " |  MySuperClass(surname: str, name: str, mark: int, group=None)\n",
      " |\n",
      " |  Methods defined here:\n",
      " |\n",
      " |  __init__(self, surname: str, name: str, mark: int, group=None)\n",
      " |      Ініціалізуємо об'єкт, підраховуємо студентів та додаємо їхні бали.\n",
      " |\n",
      " |  __repr__(self)\n",
      " |      Return repr(self).\n",
      " |\n",
      " |  ----------------------------------------------------------------------\n",
      " |  Class methods defined here:\n",
      " |\n",
      " |  get_avg_mark()\n",
      " |      Метод класу для розрахунку середнього балу.\n",
      " |\n",
      " |  ----------------------------------------------------------------------\n",
      " |  Readonly properties defined here:\n",
      " |\n",
      " |  name\n",
      " |\n",
      " |  surname\n",
      " |\n",
      " |  ----------------------------------------------------------------------\n",
      " |  Data descriptors defined here:\n",
      " |\n",
      " |  __dict__\n",
      " |      dictionary for instance variables\n",
      " |\n",
      " |  __weakref__\n",
      " |      list of weak references to the object\n",
      " |\n",
      " |  ----------------------------------------------------------------------\n",
      " |  Data and other attributes defined here:\n",
      " |\n",
      " |  college_raiting = 'Високий'\n",
      " |\n",
      " |  total_marks = 0\n",
      " |\n",
      " |  total_students = 0\n",
      "\n"
     ]
    }
   ],
   "source": [
    "from my_class import MySuperClass, function_in_module\n",
    "\n",
    "print(MySuperClass)\n",
    "help(MySuperClass)"
   ]
  },
  {
   "cell_type": "code",
   "execution_count": 45,
   "metadata": {},
   "outputs": [
    {
     "name": "stdout",
     "output_type": "stream",
     "text": [
      "['Студент us S отримав оцінку 4', 'Студент ob B отримав оцінку 5', 'Студент us S отримав оцінку 3', 'Студент id D отримав оцінку 4']\n"
     ]
    }
   ],
   "source": [
    "name = [\"S\", \"B\", \"S\", \"D\"]\n",
    "surname = [\"us\", \"ob\", \"us\", \"id\"]\n",
    "mark = [4, 5, 3, 4]\n",
    "\n",
    "print([f\"Студент {surname[i]} {name[i]} отримав оцінку {mark[i]}\" for i in range(len(name))])"
   ]
  },
  {
   "cell_type": "code",
   "execution_count": 46,
   "metadata": {},
   "outputs": [
    {
     "name": "stdout",
     "output_type": "stream",
     "text": [
      "Студент S us отримав оцінку 4\n",
      "Студент B ob отримав оцінку 5\n",
      "Студент S us отримав оцінку 3\n",
      "Студент D id отримав оцінку 4\n"
     ]
    }
   ],
   "source": [
    "d = {\n",
    "    \"Прізвище\": [\"S\", \"B\", \"S\", \"D\"],\n",
    "    \"Імя\": [\"us\", \"ob\", \"us\", \"id\"],\n",
    "    \"Оцінка\": [4, 5, 3, 4]\n",
    "}\n",
    "\n",
    "for i in range(len(d[\"Прізвище\"])):\n",
    "    print(f\"Студент {d[\"Прізвище\"][i]} {d[\"Імя\"][i]} отримав оцінку {d[\"Оцінка\"][i]}\")"
   ]
  },
  {
   "cell_type": "markdown",
   "metadata": {},
   "source": [
    " - в класі є особлива змінна self яка є вказівником на обєкт"
   ]
  },
  {
   "cell_type": "code",
   "execution_count": 47,
   "metadata": {},
   "outputs": [
    {
     "name": "stdout",
     "output_type": "stream",
     "text": [
      "Відрахували студента\n",
      "Відрахували студента\n",
      "Відрахували студента\n",
      "Відрахували студента\n",
      "Студент s us отримав оцінку 3\n",
      "Студент u ra отримав оцінку 5\n",
      "Студент s us отримав оцінку 4\n",
      "Студент s us отримав оцінку 2\n"
     ]
    }
   ],
   "source": [
    "from my_class import MySuperClass\n",
    "c = [MySuperClass(\"s\", \"us\", 3),\n",
    "     MySuperClass(\"u\", \"ra\", 5),\n",
    "     MySuperClass(\"s\", \"us\", 4),\n",
    "     MySuperClass(\"s\", \"us\", 2)\n",
    "     ]\n",
    "\n",
    "for student in c:\n",
    "    print(f\"Студент {student.surname} {student.name} отримав оцінку {student.mark}\")"
   ]
  },
  {
   "cell_type": "markdown",
   "metadata": {},
   "source": [
    "### Термінологія\n",
    "- __init__ - аналог конструктора, це є перший метод який викликається при створення обєкта\n",
    "- __repr__ - стрічкове представлення нашого обєкту\n",
    "- __docstring__ - опис класу, що він робити та як ним користуватись\n",
    "- всі методи як мають подвійне підкреслення називаються Магічними\n",
    "- будь-що що передається на вхід функції або нашого коструктора називається __аргументом__, наприклад surname це аршументом\n",
    "- коли інфціалізується обєкт то йому присвоюються __атрибути__"
   ]
  },
  {
   "cell_type": "code",
   "execution_count": 48,
   "metadata": {},
   "outputs": [
    {
     "ename": "TypeError",
     "evalue": "unsupported operand type(s) for +=: 'int' and 'NoneType'",
     "output_type": "error",
     "traceback": [
      "\u001b[1;31m---------------------------------------------------------------------------\u001b[0m",
      "\u001b[1;31mTypeError\u001b[0m                                 Traceback (most recent call last)",
      "\u001b[1;32mc:\\Users\\User\\Music\\TK-41 VS GITHUB\\TK41-Novosad\\3_lab\\1.ipynb Cell 9\u001b[0m line \u001b[0;36m2\n\u001b[0;32m      <a href='vscode-notebook-cell:/c%3A/Users/User/Music/TK-41%20VS%20GITHUB/TK41-Novosad/3_lab/1.ipynb#X11sZmlsZQ%3D%3D?line=0'>1</a>\u001b[0m \u001b[39mfrom\u001b[39;00m \u001b[39mmy_class\u001b[39;00m \u001b[39mimport\u001b[39;00m MySuperClass\n\u001b[1;32m----> <a href='vscode-notebook-cell:/c%3A/Users/User/Music/TK-41%20VS%20GITHUB/TK41-Novosad/3_lab/1.ipynb#X11sZmlsZQ%3D%3D?line=1'>2</a>\u001b[0m obj \u001b[39m=\u001b[39m MySuperClass(\u001b[39m\"\u001b[39;49m\u001b[39m\"\u001b[39;49m, \u001b[39m\"\u001b[39;49m\u001b[39mSuperSus\u001b[39;49m\u001b[39m\"\u001b[39;49m, \u001b[39mNone\u001b[39;49;00m)\n\u001b[0;32m      <a href='vscode-notebook-cell:/c%3A/Users/User/Music/TK-41%20VS%20GITHUB/TK41-Novosad/3_lab/1.ipynb#X11sZmlsZQ%3D%3D?line=3'>4</a>\u001b[0m \u001b[39mprint\u001b[39m(obj)\n\u001b[0;32m      <a href='vscode-notebook-cell:/c%3A/Users/User/Music/TK-41%20VS%20GITHUB/TK41-Novosad/3_lab/1.ipynb#X11sZmlsZQ%3D%3D?line=4'>5</a>\u001b[0m help(obj)\n",
      "File \u001b[1;32mc:\\Users\\User\\Music\\TK-41 VS GITHUB\\TK41-Novosad\\3_lab\\my_class.py:161\u001b[0m, in \u001b[0;36mMySuperClass.__init__\u001b[1;34m(self, surname, name, mark, group)\u001b[0m\n\u001b[0;32m    158\u001b[0m MySuperClass\u001b[39m.\u001b[39mtotal_students \u001b[39m+\u001b[39m\u001b[39m=\u001b[39m \u001b[39m1\u001b[39m\n\u001b[0;32m    160\u001b[0m \u001b[39m# Додаємо оцінку до загальної суми балів\u001b[39;00m\n\u001b[1;32m--> 161\u001b[0m MySuperClass\u001b[39m.\u001b[39;49mtotal_marks \u001b[39m+\u001b[39;49m\u001b[39m=\u001b[39;49m \u001b[39mself\u001b[39;49m\u001b[39m.\u001b[39;49mmark\n",
      "\u001b[1;31mTypeError\u001b[0m: unsupported operand type(s) for +=: 'int' and 'NoneType'"
     ]
    }
   ],
   "source": [
    "\n",
    "from my_class import MySuperClass\n",
    "obj = MySuperClass(\"\", \"SuperSus\", None)\n",
    "\n",
    "print(obj)\n",
    "help(obj)\n",
    "\n",
    "\n",
    "print(\"Довжина прізвища: 8 \")\n",
    "\n",
    "print(\"Беремо атрибут імені\", obj.name)"
   ]
  },
  {
   "cell_type": "markdown",
   "metadata": {},
   "source": [
    "### Принципи роботи атрибутів та властивостей\n",
    "- хоча ми можемо задавати типи аргументів які пердаються в конструктор, нічого не буде якщо ми їх не дотримаємось\n",
    "- при створенні обєкта всі методи та атриути які були в класі також будуть в обєкт\n",
    "- але ми можемо створювати динамічні атрибути, які будуть властиві лише для конкретного обєкта\n",
    "- коли створюються динамічні атрибути вони порушують механіку класу, найчастіше тому задають наперед визначені атрибути\n",
    "- Значення атрибутів можна змінювати/модифікувати під час роботи з ними\n",
    "- але існують так звані Властивості - це тіж самі поля з інформацією про обєкт але їх не можна модифікувати\n",
    "- якщо ми хочемо щоб якісь дані були незмінними то ми створюємо властивості а в середині конструктора передбачаємо приватні атрибути\n",
    "- до паблік та пзахищених атрибутів можна доступитись і змінити їх, але ніяк до приватних"
   ]
  },
  {
   "cell_type": "code",
   "execution_count": null,
   "metadata": {},
   "outputs": [
    {
     "name": "stdout",
     "output_type": "stream",
     "text": [
      "Викликаємо __init__\n",
      "В обєкта будуть наступні атрибути: {'_MySuperClass__surname': 1, '_MySuperClass__name': 'Один', 'mark': '1', 'group': None, '_age': None, '_scholarship': 0}\n",
      "Викликаємо __init__\n",
      "{'_MySuperClass__surname': 1, '_MySuperClass__name': 'Один', 'mark': '1', 'group': 'TK-41', '_age': None, '_scholarship': 0} але базові атрибути будуть доступними для {'_MySuperClass__surname': 2, '_MySuperClass__name': 'Два', 'mark': '2', 'group': None, '_age': None, '_scholarship': 0}\n",
      "Викликаємо __init__\n",
      "В цьоьму обєкті ми явно задали всі атрибути {'_MySuperClass__surname': 'Три', '_MySuperClass__name': '3', 'mark': 'TK-41', 'group': None, '_age': None, '_scholarship': 0}\n"
     ]
    }
   ],
   "source": [
    "from my_class import MySuperClass\n",
    "\n",
    "s1 = MySuperClass(1, \"Один\", \"1\")\n",
    "\n",
    "print(f\"В обєкта будуть наступні атрибути: {s1.__dict__}\")\n",
    "s1.group = \"TK-41\"\n",
    "\n",
    "s2 = MySuperClass(2, \"Два\", \"2\")\n",
    "print(f\"{s1.__dict__} але базові атрибути будуть доступними для {s2.__dict__}\")\n",
    "\n",
    "s3 = MySuperClass(\"Три\", \"3\", \"TK-41\")  \n",
    "print(f\"В цьоьму обєкті ми явно задали всі атрибути {s3.__dict__}\")"
   ]
  },
  {
   "cell_type": "code",
   "execution_count": null,
   "metadata": {},
   "outputs": [
    {
     "name": "stdout",
     "output_type": "stream",
     "text": [
      "10\n"
     ]
    }
   ],
   "source": [
    "class MySuperClass:\n",
    "    def __init__(self, surname, name, mark, age=None):\n",
    "        self.surname = surname\n",
    "        self.name = name\n",
    "        self.mark = mark\n",
    "        self._age = age  # Ініціалізація атрибуту _age\n",
    "\n",
    "s1 = MySuperClass(\"Петренко\", \"Іван\", 85)\n",
    "s1._age = 10  # Встановлюємо значення\n",
    "print(s1._age)  # Виведе 10\n"
   ]
  },
  {
   "cell_type": "markdown",
   "metadata": {},
   "source": [
    "### Методи класу"
   ]
  },
  {
   "cell_type": "code",
   "execution_count": null,
   "metadata": {},
   "outputs": [
    {
     "name": "stdout",
     "output_type": "stream",
     "text": [
      "Викликаємо __init__\n",
      "Ми викликали публічний метод\n",
      "Це приватний метод!\n",
      "Ми доступаємось до захищеного методу\n",
      "\n",
      "Тільки поступив вчитись в коледж: 0\n",
      "Провчились семестр і середній бал вийшов вище 90:  Присвоєно підвищену стипундію\n",
      "І тепер моя стипендія : 2200 грн\n",
      "За другий семестр, я набрав 79 балів : Присвоєно звичайну стипундію\n",
      "І тепер моя стипендія вийшла: 1510 грн\n",
      "Перестали вчитись та пішов працювати на роботу : Рейтинг занизький для стипендії\n",
      "І тепер я не отримую стипендію: 0\n",
      "\n"
     ]
    }
   ],
   "source": [
    "from my_class import MySuperClass\n",
    "\n",
    "s1 = MySuperClass(1, \"Один\", \"1\")\n",
    "\n",
    "print(s1.fucntion_in_class())\n",
    "print(s1._protected_method_in_class())\n",
    "\n",
    "print(f\"\"\"\n",
    "Тільки поступив вчитись в коледж: {s1._scholarship}\n",
    "Провчились семестр і середній бал вийшов вище 90:  {s1.calculate_scholarship_after_session(5)}\n",
    "І тепер моя стипендія : {s1._scholarship}\n",
    "За другий семестр, я набрав 79 балів : {s1.calculate_scholarship_after_session(4)}\n",
    "І тепер моя стипендія вийшла: {s1._scholarship}\n",
    "Перестали вчитись та пішов працювати на роботу : {s1.calculate_scholarship_after_session(3)}\n",
    "І тепер я не отримую стипендію: {s1._scholarship}\n",
    "\"\"\")"
   ]
  },
  {
   "cell_type": "markdown",
   "metadata": {},
   "source": [
    "### Завдання виконане за допомогою ChatGPT"
   ]
  },
  {
   "cell_type": "code",
   "execution_count": null,
   "metadata": {},
   "outputs": [
    {
     "name": "stdout",
     "output_type": "stream",
     "text": [
      "Автомобіль 'BMW X5' доданий до автосалону.\n",
      "Автомобіль 'BMW 3 Series' доданий до автосалону.\n",
      "Автомобіль 'BMW Z4' доданий до автосалону.\n",
      "\n",
      "Автомобілі в автосалоні:\n",
      "BMW X5 (2005) - 800000 грн\n",
      "BMW 3 Series (2005) - 600000 грн\n",
      "BMW Z4 (2005) - 700000 грн\n",
      "\n",
      "Автомобілі 2005 року:\n",
      "[BMW X5 (2005) - 800000 грн, BMW 3 Series (2005) - 600000 грн, BMW Z4 (2005) - 700000 грн]\n",
      "Автомобіль 'BMW X5' видалений з автосалону.\n",
      "\n",
      "Автомобілі в автосалоні після видалення:\n",
      "BMW 3 Series (2005) - 600000 грн\n",
      "BMW Z4 (2005) - 700000 грн\n"
     ]
    }
   ],
   "source": [
    "from my_class import Car, BMWShowroom\n",
    "\n",
    "# Створюємо автосалон BMW\n",
    "showroom = BMWShowroom()\n",
    "\n",
    "# Створюємо кілька автомобілів BMW\n",
    "car1 = Car(\"BMW X5\", 2005, 800000)\n",
    "car2 = Car(\"BMW 3 Series\", 2005, 600000)\n",
    "car3 = Car(\"BMW Z4\", 2005, 700000)\n",
    "\n",
    "# Додаємо автомобілі до автосалону\n",
    "print(showroom.add_car(car1))\n",
    "print(showroom.add_car(car2))\n",
    "print(showroom.add_car(car3))\n",
    "\n",
    "# Виводимо всі автомобілі в автосалоні\n",
    "print(\"\\nАвтомобілі в автосалоні:\")\n",
    "print(showroom.display_cars())\n",
    "\n",
    "# Шукаємо автомобілі за роком\n",
    "print(\"\\nАвтомобілі 2005 року:\")\n",
    "print(showroom.find_cars_by_year(2005))\n",
    "\n",
    "# Видаляємо автомобіль\n",
    "print(showroom.remove_car(\"BMW X5\"))\n",
    "\n",
    "# Виводимо всі автомобілі після видалення\n",
    "print(\"\\nАвтомобілі в автосалоні після видалення:\")\n",
    "print(showroom.display_cars())\n"
   ]
  },
  {
   "cell_type": "markdown",
   "metadata": {},
   "source": []
  },
  {
   "cell_type": "markdown",
   "metadata": {},
   "source": [
    "### Методи класу"
   ]
  },
  {
   "cell_type": "code",
   "execution_count": null,
   "metadata": {},
   "outputs": [
    {
     "name": "stdout",
     "output_type": "stream",
     "text": [
      "Відрахували студента\n"
     ]
    }
   ],
   "source": [
    "del s1"
   ]
  },
  {
   "cell_type": "code",
   "execution_count": null,
   "metadata": {},
   "outputs": [
    {
     "name": "stdout",
     "output_type": "stream",
     "text": [
      "Викликаємо __init__\n",
      "Відрахували студента\n",
      "Викликаємо __init__\n",
      "Відрахували студента\n",
      "Перазаписали класові змінну Це проста класова змінна\n",
      "3 6.0\n"
     ]
    }
   ],
   "source": [
    "from my_class import MySuperClass\n",
    "\n",
    "s1 = MySuperClass(1, \"Один\", 1)\n",
    "s2 = MySuperClass(2, \"Два\", 3)\n",
    "\n",
    "print(s1.var_lover_case, MySuperClass.var_lover_case)\n",
    "print(MySuperClass.total_students, s1.college_raiting)"
   ]
  },
  {
   "cell_type": "markdown",
   "metadata": {},
   "source": [
    "### Завдання виконано за допомогою ChatGPT "
   ]
  },
  {
   "cell_type": "code",
   "execution_count": 52,
   "metadata": {},
   "outputs": [
    {
     "name": "stdout",
     "output_type": "stream",
     "text": [
      "Змінна класу\n",
      "Змінна класу\n",
      "Кількість студентів: 2\n",
      "Загальна сума балів: 4\n",
      "Середній бал: 2.0\n",
      "Рейтинг коледжу: Високий\n",
      "Студент 1 Один, Оцінка: 1\n",
      "Студент 2 Два, Оцінка: 3\n"
     ]
    }
   ],
   "source": [
    "# імпортуємо клас з my_class.py\n",
    "from my_class import MySuperClass\n",
    "\n",
    "# Створення студентів\n",
    "s1 = MySuperClass(1, \"Один\", 1)\n",
    "s2 = MySuperClass(2, \"Два\", 3)\n",
    "\n",
    "# Використання атрибутів екземпляра та класу\n",
    "print(s1.var_lover_case)  # Виведе \"Змінна класу\" (це атрибут екземпляра)\n",
    "print(MySuperClass.var_lover_case)  # Тепер це працює, виведе \"Змінна класу\" (це атрибут класу)\n",
    "\n",
    "# Кількість студентів та середній бал\n",
    "print(\"Кількість студентів:\", MySuperClass.total_students)  # Виведе 2\n",
    "print(\"Загальна сума балів:\", MySuperClass.total_marks)  # Виведе 4 (1 + 3)\n",
    "print(\"Середній бал:\", MySuperClass.get_avg_mark())  # Виведе 2.0\n",
    "\n",
    "# Доступ до загального рейтингу коледжу\n",
    "print(\"Рейтинг коледжу:\", MySuperClass.college_raiting)  # Виведе \"Високий\"\n",
    "\n",
    "# Перевірка методів класу та екземпляра\n",
    "print(s1)  # Викликає __repr__ для s1, виведе \"Студент Один Один, Оцінка: 1\"\n",
    "print(s2)  # Викликає __repr__ для s2, виведе \"Студент Два Два, Оцінка: 3\"\n",
    "\n"
   ]
  }
 ],
 "metadata": {
  "kernelspec": {
   "display_name": "Python 3",
   "language": "python",
   "name": "python3"
  },
  "language_info": {
   "codemirror_mode": {
    "name": "ipython",
    "version": 3
   },
   "file_extension": ".py",
   "mimetype": "text/x-python",
   "name": "python",
   "nbconvert_exporter": "python",
   "pygments_lexer": "ipython3",
   "version": "3.12.5"
  }
 },
 "nbformat": 4,
 "nbformat_minor": 2
}
