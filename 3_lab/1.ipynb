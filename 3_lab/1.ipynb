{
 "cells": [
  {
   "cell_type": "markdown",
   "metadata": {},
   "source": [
    "### Знайомство з ООП\n"
   ]
  },
  {
   "cell_type": "code",
   "execution_count": 10,
   "metadata": {},
   "outputs": [
    {
     "name": "stdout",
     "output_type": "stream",
     "text": [
      "Викликаємо __init__\n",
      "Представлення об'єкту: MySuperClass(surname=Петренко, name=Іван, mark=85)\n",
      "Help on MySuperClass in module my_class object:\n",
      "\n",
      "class MySuperClass(builtins.object)\n",
      " |  MySuperClass(surname, name, mark)\n",
      " |\n",
      " |  Тестовий клас, зараз реалізуємо опис студента.\n",
      " |\n",
      " |  ---\n",
      " |\n",
      " |  surname : str\n",
      " |      Прізвище студента.\n",
      " |\n",
      " |  Methods defined here:\n",
      " |\n",
      " |  __init__(self, surname, name, mark)\n",
      " |      Ініціалізуємо об'єкт.\n",
      " |      - в середині конструктора створюються атрибути.\n",
      " |\n",
      " |  __len__(self)\n",
      " |\n",
      " |  __repr__(self)\n",
      " |      Return repr(self).\n",
      " |\n",
      " |  ----------------------------------------------------------------------\n",
      " |  Data descriptors defined here:\n",
      " |\n",
      " |  __dict__\n",
      " |      dictionary for instance variables\n",
      " |\n",
      " |  __weakref__\n",
      " |      list of weak references to the object\n",
      "\n",
      "Тестовий клас, зараз реалізуємо опис студента.\n",
      "    \n",
      "    ---\n",
      "    \n",
      "    surname : str\n",
      "        Прізвище студента.\n",
      "    \n",
      "Довжина прізвища:  8\n",
      "Беремо атрибут імені: Іван\n"
     ]
    },
    {
     "data": {
      "text/plain": [
       "<module 'my_class' from 'c:\\\\Users\\\\User\\\\Music\\\\TK-41 VS GITHUB\\\\TK41-Novosad\\\\3_lab\\\\my_class.py'>"
      ]
     },
     "execution_count": 10,
     "metadata": {},
     "output_type": "execute_result"
    }
   ],
   "source": [
    "import importlib\n",
    "import my_class\n",
    "\n",
    "importlib.reload(my_class)"
   ]
  },
  {
   "cell_type": "code",
   "execution_count": 11,
   "metadata": {},
   "outputs": [
    {
     "name": "stdout",
     "output_type": "stream",
     "text": [
      "<class 'my_class.MySuperClass'>\n",
      "Help on class MySuperClass in module my_class:\n",
      "\n",
      "class MySuperClass(builtins.object)\n",
      " |  MySuperClass(surname: str, name, mark: int, group=None)\n",
      " |\n",
      " |  Тестовий клас, зараз реалізуємо опис студента\n",
      " |\n",
      " |  ---\n",
      " |\n",
      " |  surname : str\n",
      " |      Прізвище студента\n",
      " |\n",
      " |  Methods defined here:\n",
      " |\n",
      " |  __init__(self, surname: str, name, mark: int, group=None)\n",
      " |      Ініціалізуємо обєкт\n",
      " |      - в середині конструктора створюються атрибути\n",
      " |\n",
      " |  __len__(self)\n",
      " |\n",
      " |  __repr__(self)\n",
      " |      Return repr(self).\n",
      " |\n",
      " |  ----------------------------------------------------------------------\n",
      " |  Readonly properties defined here:\n",
      " |\n",
      " |  name\n",
      " |      Ця властивість є затритою, її можна читати але не можна змінювати\n",
      " |\n",
      " |  surname\n",
      " |\n",
      " |  ----------------------------------------------------------------------\n",
      " |  Data descriptors defined here:\n",
      " |\n",
      " |  __dict__\n",
      " |      dictionary for instance variables\n",
      " |\n",
      " |  __weakref__\n",
      " |      list of weak references to the object\n",
      "\n"
     ]
    }
   ],
   "source": [
    "from my_class import MySuperClass, function_in_module\n",
    "\n",
    "print(MySuperClass)\n",
    "help(MySuperClass)"
   ]
  },
  {
   "cell_type": "code",
   "execution_count": 12,
   "metadata": {},
   "outputs": [
    {
     "name": "stdout",
     "output_type": "stream",
     "text": [
      "['Студент us S отримав оцінку 4', 'Студент ob B отримав оцінку 5', 'Студент us S отримав оцінку 3', 'Студент id D отримав оцінку 4']\n"
     ]
    }
   ],
   "source": [
    "name = [\"S\", \"B\", \"S\", \"D\"]\n",
    "surname = [\"us\", \"ob\", \"us\", \"id\"]\n",
    "mark = [4, 5, 3, 4]\n",
    "\n",
    "print([f\"Студент {surname[i]} {name[i]} отримав оцінку {mark[i]}\" for i in range(len(name))])"
   ]
  },
  {
   "cell_type": "code",
   "execution_count": 13,
   "metadata": {},
   "outputs": [
    {
     "name": "stdout",
     "output_type": "stream",
     "text": [
      "Студент S us отримав оцінку 4\n",
      "Студент B ob отримав оцінку 5\n",
      "Студент S us отримав оцінку 3\n",
      "Студент D id отримав оцінку 4\n"
     ]
    }
   ],
   "source": [
    "d = {\n",
    "    \"Прізвище\": [\"S\", \"B\", \"S\", \"D\"],\n",
    "    \"Імя\": [\"us\", \"ob\", \"us\", \"id\"],\n",
    "    \"Оцінка\": [4, 5, 3, 4]\n",
    "}\n",
    "\n",
    "for i in range(len(d[\"Прізвище\"])):\n",
    "    print(f\"Студент {d[\"Прізвище\"][i]} {d[\"Імя\"][i]} отримав оцінку {d[\"Оцінка\"][i]}\")"
   ]
  },
  {
   "cell_type": "markdown",
   "metadata": {},
   "source": [
    " - в класі є особлива змінна self яка є вказівником на обєкт"
   ]
  },
  {
   "cell_type": "code",
   "execution_count": 14,
   "metadata": {},
   "outputs": [
    {
     "name": "stdout",
     "output_type": "stream",
     "text": [
      "Викликаємо __init__\n",
      "Викликаємо __init__\n",
      "Викликаємо __init__\n",
      "Викликаємо __init__\n",
      "Студент s us отримав оцінку 3\n",
      "Студент u ra отримав оцінку 5\n",
      "Студент s us отримав оцінку 4\n",
      "Студент s us отримав оцінку 2\n"
     ]
    }
   ],
   "source": [
    "from my_class import MySuperClass\n",
    "c = [MySuperClass(\"s\", \"us\", 3),\n",
    "     MySuperClass(\"u\", \"ra\", 5),\n",
    "     MySuperClass(\"s\", \"us\", 4),\n",
    "     MySuperClass(\"s\", \"us\", 2)\n",
    "     ]\n",
    "\n",
    "for student in c:\n",
    "    print(f\"Студент {student.surname} {student.name} отримав оцінку {student.mark}\")"
   ]
  },
  {
   "cell_type": "markdown",
   "metadata": {},
   "source": [
    "### Термінологія\n",
    "- __init__ - аналог конструктора, це є перший метод який викликається при створення обєкта\n",
    "- __repr__ - стрічкове представлення нашого обєкту\n",
    "- __docstring__ - опис класу, що він робити та як ним користуватись\n",
    "- всі методи як мають подвійне підкреслення називаються Магічними\n",
    "- будь-що що передається на вхід функції або нашого коструктора називається __аргументом__, наприклад surname це аршументом\n",
    "- коли інфціалізується обєкт то йому присвоюються __атрибути__"
   ]
  },
  {
   "cell_type": "code",
   "execution_count": 15,
   "metadata": {},
   "outputs": [
    {
     "name": "stdout",
     "output_type": "stream",
     "text": [
      "Викликаємо __init__\n",
      "Представлення обєкту Студент, його задають: MySuperClass(surname, name, mark)\n",
      "Help on MySuperClass in module my_class object:\n",
      "\n",
      "class MySuperClass(builtins.object)\n",
      " |  MySuperClass(surname: str, name, mark: int, group=None)\n",
      " |\n",
      " |  Тестовий клас, зараз реалізуємо опис студента\n",
      " |\n",
      " |  ---\n",
      " |\n",
      " |  surname : str\n",
      " |      Прізвище студента\n",
      " |\n",
      " |  Methods defined here:\n",
      " |\n",
      " |  __init__(self, surname: str, name, mark: int, group=None)\n",
      " |      Ініціалізуємо обєкт\n",
      " |      - в середині конструктора створюються атрибути\n",
      " |\n",
      " |  __len__(self)\n",
      " |\n",
      " |  __repr__(self)\n",
      " |      Return repr(self).\n",
      " |\n",
      " |  ----------------------------------------------------------------------\n",
      " |  Readonly properties defined here:\n",
      " |\n",
      " |  name\n",
      " |      Ця властивість є затритою, її можна читати але не можна змінювати\n",
      " |\n",
      " |  surname\n",
      " |\n",
      " |  ----------------------------------------------------------------------\n",
      " |  Data descriptors defined here:\n",
      " |\n",
      " |  __dict__\n",
      " |      dictionary for instance variables\n",
      " |\n",
      " |  __weakref__\n",
      " |      list of weak references to the object\n",
      "\n",
      "Довжина прізвища: 8 \n",
      "Беремо атрибут імені SuperSus\n"
     ]
    }
   ],
   "source": [
    "\n",
    "from my_class import MySuperClass\n",
    "obj = MySuperClass(\"\", \"SuperSus\", None)\n",
    "\n",
    "print(obj)\n",
    "help(obj)\n",
    "\n",
    "\n",
    "print(\"Довжина прізвища: 8 \")\n",
    "\n",
    "print(\"Беремо атрибут імені\", obj.name)"
   ]
  },
  {
   "cell_type": "markdown",
   "metadata": {},
   "source": [
    "### Принципи роботи атрибутів та властивостей\n",
    "- хоча ми можемо задавати типи аргументів які пердаються в конструктор, нічого не буде якщо ми їх не дотримаємось\n",
    "- при створенні обєкта всі методи та атриути які були в класі також будуть в обєкт\n",
    "- але ми можемо створювати динамічні атрибути, які будуть властиві лише для конкретного обєкта\n",
    "- коли створюються динамічні атрибути вони порушують механіку класу, найчастіше тому задають наперед визначені атрибути\n",
    "- Значення атрибутів можна змінювати/модифікувати під час роботи з ними\n",
    "- але існують так звані Властивості - це тіж самі поля з інформацією про обєкт але їх не можна модифікувати\n",
    "- якщо ми хочемо щоб якісь дані були незмінними то ми створюємо властивості а в середині конструктора передбачаємо приватні атрибути\n",
    "- до паблік та пзахищених атрибутів можна доступитись і змінити їх, але ніяк до приватних"
   ]
  },
  {
   "cell_type": "code",
   "execution_count": 16,
   "metadata": {},
   "outputs": [
    {
     "name": "stdout",
     "output_type": "stream",
     "text": [
      "Викликаємо __init__\n",
      "В обєкта будуть наступні атрибути: {'_MySuperClass__surname': 1, '_MySuperClass__name': 'Один', 'mark': '1', 'group': None, '_age': None}\n",
      "Викликаємо __init__\n",
      "{'_MySuperClass__surname': 1, '_MySuperClass__name': 'Один', 'mark': '1', 'group': 'TK-41', '_age': None} але базові атрибути будуть доступними для {'_MySuperClass__surname': 2, '_MySuperClass__name': 'Два', 'mark': '2', 'group': None, '_age': None}\n",
      "Викликаємо __init__\n",
      "В цьоьму обєкті ми явно задали всі атрибути {'_MySuperClass__surname': 'Три', '_MySuperClass__name': '3', 'mark': 'TK-41', 'group': None, '_age': None}\n"
     ]
    }
   ],
   "source": [
    "from my_class import MySuperClass\n",
    "\n",
    "s1 = MySuperClass(1, \"Один\", \"1\")\n",
    "\n",
    "print(f\"В обєкта будуть наступні атрибути: {s1.__dict__}\")\n",
    "s1.group = \"TK-41\"\n",
    "\n",
    "s2 = MySuperClass(2, \"Два\", \"2\")\n",
    "print(f\"{s1.__dict__} але базові атрибути будуть доступними для {s2.__dict__}\")\n",
    "\n",
    "s3 = MySuperClass(\"Три\", \"3\", \"TK-41\")  \n",
    "print(f\"В цьоьму обєкті ми явно задали всі атрибути {s3.__dict__}\")"
   ]
  },
  {
   "cell_type": "code",
   "execution_count": 17,
   "metadata": {},
   "outputs": [
    {
     "name": "stdout",
     "output_type": "stream",
     "text": [
      "10\n"
     ]
    }
   ],
   "source": [
    "class MySuperClass:\n",
    "    def __init__(self, surname, name, mark, age=None):\n",
    "        self.surname = surname\n",
    "        self.name = name\n",
    "        self.mark = mark\n",
    "        self._age = age  # Ініціалізація атрибуту _age\n",
    "\n",
    "s1 = MySuperClass(\"Петренко\", \"Іван\", 85)\n",
    "s1._age = 10  # Встановлюємо значення\n",
    "print(s1._age)  # Виведе 10\n"
   ]
  }
 ],
 "metadata": {
  "kernelspec": {
   "display_name": "Python 3",
   "language": "python",
   "name": "python3"
  },
  "language_info": {
   "codemirror_mode": {
    "name": "ipython",
    "version": 3
   },
   "file_extension": ".py",
   "mimetype": "text/x-python",
   "name": "python",
   "nbconvert_exporter": "python",
   "pygments_lexer": "ipython3",
   "version": "3.12.5"
  }
 },
 "nbformat": 4,
 "nbformat_minor": 2
}
